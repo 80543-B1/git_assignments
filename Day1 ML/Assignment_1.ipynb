{
 "cells": [
  {
   "cell_type": "code",
   "execution_count": 3,
   "id": "cefc56c6-e2d2-4dde-8c1f-9243d07b5f82",
   "metadata": {},
   "outputs": [
    {
     "name": "stdout",
     "output_type": "stream",
     "text": [
      "Hello RAHUL\n"
     ]
    }
   ],
   "source": [
    "print(\"Hello RAHUL\")"
   ]
  },
  {
   "cell_type": "code",
   "execution_count": 28,
   "id": "3ce6855f-1c1a-4a06-a8d3-bead3ce030f2",
   "metadata": {},
   "outputs": [],
   "source": [
    "import random"
   ]
  },
  {
   "cell_type": "code",
   "execution_count": 5,
   "id": "3afb4d6f-9c8a-4d22-9117-7346a5b5e6af",
   "metadata": {},
   "outputs": [],
   "source": [
    "import numpy as np"
   ]
  },
  {
   "cell_type": "code",
   "execution_count": 13,
   "id": "f00239c0-5988-455b-8c71-5572db14ffc1",
   "metadata": {},
   "outputs": [
    {
     "name": "stdout",
     "output_type": "stream",
     "text": [
      "[  0   1   7  13 105]\n",
      "5\n",
      "8\n",
      "Memmory : 40 \n"
     ]
    }
   ],
   "source": [
    "# 1. Write a NumPy program to create an array with the values 1, 7, 13, 105    \n",
    "# and determine the size of the memory occupied by the array.\n",
    "\n",
    "arr = np.array([0,1,7,13,105])\n",
    "print(arr)\n",
    "print(arr.size)\n",
    "print(arr.itemsize)\n",
    "\n",
    "print(f\"Memmory : {(arr.size) * (arr.itemsize)} \")"
   ]
  },
  {
   "cell_type": "code",
   "execution_count": 16,
   "id": "2459153a-5e9b-4159-8bde-4e9ad653cf9b",
   "metadata": {},
   "outputs": [
    {
     "name": "stdout",
     "output_type": "stream",
     "text": [
      "[ True  True  True  True  True]\n",
      "[ True False False False  True]\n",
      "[False  True False  True False]\n"
     ]
    }
   ],
   "source": [
    "# 2. Write a NumPy program to create an element-wise comparison (greater, greater_equal, less and less_equal) of two given arrays\n",
    "\n",
    "arr1 = np.array([1,3,1,10,5])\n",
    "arr2 = np.array([1,3,1,10,5])\n",
    "arr3 = np.array([5,1,1,9,7])\n",
    "\n",
    "print(arr1 == arr2)\n",
    "print(arr3 > arr2)\n",
    "print(arr3 < arr2)"
   ]
  },
  {
   "cell_type": "code",
   "execution_count": 20,
   "id": "85cee6b6-7eab-499f-816c-bca6ce683776",
   "metadata": {},
   "outputs": [
    {
     "name": "stdout",
     "output_type": "stream",
     "text": [
      "[30 31 32 33 34 35 36 37 38 39 40 41 42 43 44 45 46 47 48 49 50 51 52 53\n",
      " 54 55 56 57 58 59 60 61 62 63 64 65 66 67 68 69 70]\n"
     ]
    }
   ],
   "source": [
    "# 3. Write a NumPy program to create an array of integers from 30 to 70\n",
    "\n",
    "arr = np.arange(30,71)\n",
    "print(arr)\n"
   ]
  },
  {
   "cell_type": "code",
   "execution_count": 25,
   "id": "0e4483f0-efcf-434e-8085-109f8d1abb35",
   "metadata": {},
   "outputs": [
    {
     "name": "stdout",
     "output_type": "stream",
     "text": [
      "[20 22 24 26 28 30 32 34 36 38 40 42 44 46 48 50 52 54 56 58 60 62 64 66\n",
      " 68 70 72 74 76 78 80]\n"
     ]
    }
   ],
   "source": [
    "# 4. Write a NumPy program to create an array of all even integers from 20 to 80\n",
    "\n",
    "arr = np.arange(20,81,2)\n",
    " \n",
    "print(arr)\n",
    "\n"
   ]
  },
  {
   "cell_type": "code",
   "execution_count": 26,
   "id": "ec1f8978-54a7-45c1-abc0-52f9445266ab",
   "metadata": {},
   "outputs": [
    {
     "name": "stdout",
     "output_type": "stream",
     "text": [
      "[21 23 25 27 29 31 33 35 37 39 41 43 45 47 49 51 53 55 57 59 61 63 65 67\n",
      " 69 71 73 75 77 79]\n"
     ]
    }
   ],
   "source": [
    "# 5. Write a NumPy program to create an array of all odd integers from 20 to 80\n",
    "\n",
    "print(np.arange(21,81,2))"
   ]
  },
  {
   "cell_type": "code",
   "execution_count": 55,
   "id": "2a499ae1-5446-4812-811f-78069852a0da",
   "metadata": {},
   "outputs": [
    {
     "name": "stdout",
     "output_type": "stream",
     "text": [
      "[0.4303367  0.38001168 0.72813555 0.07886386 0.94618203 0.9180094\n",
      " 0.659241   0.2682538  0.58373127 0.38885245 0.62569728 0.32514796\n",
      " 0.73484245 0.96380886 0.61866741]\n"
     ]
    }
   ],
   "source": [
    "# 6. Write a NumPy program to generate an array of 15 random numbers from 10 to 40.\n",
    "\n",
    "list = []\n",
    "for i in range(15):\n",
    "    x = random.randint(10,41)\n",
    "    list.append(x)\n",
    "# print(list)\n",
    "print(np.array(list))"
   ]
  },
  {
   "cell_type": "code",
   "execution_count": 54,
   "id": "f40a37f8-dd32-4053-82de-275b2ed6b48d",
   "metadata": {},
   "outputs": [
    {
     "name": "stdout",
     "output_type": "stream",
     "text": [
      "[24 31 30 14 10 24 29 12 38 28 26 26 10 20 34]\n"
     ]
    }
   ],
   "source": [
    "arr = np.random.randint(10,40,15)\n",
    "print(arr)"
   ]
  },
  {
   "cell_type": "code",
   "execution_count": 57,
   "id": "3a3cc598-961a-42be-bf00-f7158a160f48",
   "metadata": {},
   "outputs": [
    {
     "name": "stdout",
     "output_type": "stream",
     "text": [
      "[[10 11 12 13]\n",
      " [14 15 16 17]\n",
      " [18 19 20 21]]\n"
     ]
    }
   ],
   "source": [
    "#9. Write a NumPy program to create a 3x4 matrix filled with values from 10 to 21\n",
    "\n",
    "print(np.arange(10,22).reshape(3,4))\n"
   ]
  },
  {
   "cell_type": "code",
   "execution_count": 58,
   "id": "e2228532-dbe0-4bc1-9c6d-77b488870c79",
   "metadata": {},
   "outputs": [
    {
     "name": "stdout",
     "output_type": "stream",
     "text": [
      "[[1. 0. 0.]\n",
      " [0. 1. 0.]\n",
      " [0. 0. 1.]]\n"
     ]
    }
   ],
   "source": [
    "# 10. Write a NumPy program to create a 3x3 identity matrix, i.e. the diagonal elements are 1, the rest are 0\n",
    "\n",
    "print(np.identity(3))"
   ]
  },
  {
   "cell_type": "markdown",
   "id": "2c18b87d-82ec-480d-b6b6-d715db192a97",
   "metadata": {},
   "source": [
    "# hello"
   ]
  },
  {
   "cell_type": "code",
   "execution_count": 64,
   "id": "dc9f87e5-d9fe-4743-adab-0ec29f617a35",
   "metadata": {},
   "outputs": [
    {
     "name": "stdout",
     "output_type": "stream",
     "text": [
      "[[  6  14   1]\n",
      " [ 56  12 122]\n",
      " [ 99  88  77]]\n"
     ]
    }
   ],
   "source": [
    "# 11. Write a NumPy program to find the number of rows and columns in a given matrix\n",
    "\n",
    "\n",
    "matrix = [[6,14 ,1],\n",
    "          [56,12,122],\n",
    "          [99,88,77]]\n",
    "\n",
    "x = np.array(matrix)\n",
    "print(x)"
   ]
  },
  {
   "cell_type": "code",
   "execution_count": 71,
   "id": "20750cea-3783-4c68-bb82-ed824fc06ba5",
   "metadata": {},
   "outputs": [
    {
     "name": "stdout",
     "output_type": "stream",
     "text": [
      "3 3\n"
     ]
    }
   ],
   "source": [
    "row,col =  x.shape\n",
    "print(row,col)"
   ]
  },
  {
   "cell_type": "code",
   "execution_count": 75,
   "id": "84658ad4-6c60-4e93-bee0-885b4c36c98e",
   "metadata": {},
   "outputs": [
    {
     "name": "stdout",
     "output_type": "stream",
     "text": [
      "[[1 0 0 0 0]\n",
      " [0 2 0 0 0]\n",
      " [0 0 3 0 0]\n",
      " [0 0 0 4 0]\n",
      " [0 0 0 0 5]]\n"
     ]
    }
   ],
   "source": [
    "# Write a NumPy program to create a 5x5 zero matrix with elements on the main diagonal equal to 1, 2, 3, 4, 5\n",
    "\n",
    "identity_matrix = np.diag([1,2,3,4,5])\n",
    "print(identity_matrix)"
   ]
  },
  {
   "cell_type": "code",
   "execution_count": null,
   "id": "5fbde140-7bc4-449b-9899-b3c8b787cdff",
   "metadata": {},
   "outputs": [],
   "source": []
  },
  {
   "cell_type": "code",
   "execution_count": null,
   "id": "f5e037fd-8a78-47fa-9c91-f87a641f29ee",
   "metadata": {},
   "outputs": [],
   "source": []
  },
  {
   "cell_type": "code",
   "execution_count": null,
   "id": "b09a8e8e-0dc1-4277-a8c4-6e59590d894c",
   "metadata": {},
   "outputs": [],
   "source": []
  },
  {
   "cell_type": "code",
   "execution_count": null,
   "id": "638dd87e-9eaa-4061-9f2a-5fa6650da567",
   "metadata": {},
   "outputs": [],
   "source": []
  },
  {
   "cell_type": "code",
   "execution_count": null,
   "id": "d482899e-9264-4296-973a-214c83d8b96a",
   "metadata": {},
   "outputs": [],
   "source": []
  },
  {
   "cell_type": "code",
   "execution_count": null,
   "id": "ee36c13d-8755-46c6-b6f0-53cf58d9fb80",
   "metadata": {},
   "outputs": [],
   "source": []
  },
  {
   "cell_type": "code",
   "execution_count": null,
   "id": "43ea1813-a634-4f37-b5ff-17885dd0fa6d",
   "metadata": {},
   "outputs": [],
   "source": []
  }
 ],
 "metadata": {
  "kernelspec": {
   "display_name": "Python 3 (ipykernel)",
   "language": "python",
   "name": "python3"
  },
  "language_info": {
   "codemirror_mode": {
    "name": "ipython",
    "version": 3
   },
   "file_extension": ".py",
   "mimetype": "text/x-python",
   "name": "python",
   "nbconvert_exporter": "python",
   "pygments_lexer": "ipython3",
   "version": "3.10.12"
  }
 },
 "nbformat": 4,
 "nbformat_minor": 5
}
